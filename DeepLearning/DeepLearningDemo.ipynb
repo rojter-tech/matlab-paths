{
 "cells": [
  {
   "cell_type": "markdown",
   "metadata": {},
   "source": [
    "Running this file will download CIFAR10 and place the images into a\n",
    "training folder and test folder in the current directory\n",
    "These will be used for the three demos in this folder. \n",
    "Please note this will take a few minutes to run, but only needs to be run\n",
    "once.\n",
    "\n",
    "Copyright 2017 The MathWorks, Inc."
   ]
  },
  {
   "cell_type": "code",
   "execution_count": 1,
   "metadata": {},
   "outputs": [
    {
     "name": "stdout",
     "output_type": "stream",
     "text": [
      "Created file '/mnt/rOjterQsync/Github/matlab-paths/DeepLearning/saveCIFAR10AsFolderOfImages.m'.\n"
     ]
    }
   ],
   "source": [
    "%%file saveCIFAR10AsFolderOfImages.m\n",
    "function saveCIFAR10AsFolderOfImages(inputPath, outputPath, varargin)\n",
    "% saveCIFAR10AsFolderOfImages   Save the CIFAR-10 dataset as a folder of images\n",
    "%   saveCIFAR10AsFolderOfImages(inputPath, outputPath) takes the CIFAR-10\n",
    "%   dataset located at inputPath and saves it as a folder of images to the\n",
    "%   directory outputPath. If inputPath or outputPath is an empty string, it\n",
    "%   is assumed that the current folder should be used.\n",
    "%\n",
    "%   saveCIFAR10AsFolderOfImages(..., labelDirectories) will save the\n",
    "%   CIFAR-10 data so that instances with the same label will be saved to\n",
    "%   sub-directories with the name of that label.\n",
    "\n",
    "% Check input directories are valid\n",
    "if(~isempty(inputPath))\n",
    "    assert(exist(inputPath,'dir') == 7);\n",
    "end\n",
    "if(~isempty(outputPath))\n",
    "    assert(exist(outputPath,'dir') == 7);\n",
    "end\n",
    "\n",
    "% Check if we want to save each set with the same labels to its own\n",
    "% directory.\n",
    "if(isempty(varargin))\n",
    "    labelDirectories = false;\n",
    "else\n",
    "    assert(nargin == 3);\n",
    "    labelDirectories = varargin{1};\n",
    "end\n",
    "\n",
    "% Set names for directories\n",
    "trainDirectoryName = 'cifar10Train';\n",
    "testDirectoryName = 'cifar10Test';\n",
    "\n",
    "% Create directories for the output\n",
    "mkdir(fullfile(outputPath, trainDirectoryName));\n",
    "mkdir(fullfile(outputPath, testDirectoryName));\n",
    "\n",
    "if(labelDirectories)\n",
    "    labelNames = {'airplane','automobile','bird','cat','deer','dog','frog','horse','ship','truck'};\n",
    "    iMakeTheseDirectories(fullfile(outputPath, trainDirectoryName), labelNames);\n",
    "    iMakeTheseDirectories(fullfile(outputPath, testDirectoryName), labelNames);\n",
    "    for i = 1:5\n",
    "        iLoadBatchAndWriteAsImagesToLabelFolders(fullfile(inputPath,['data_batch_' num2str(i) '.mat']), fullfile(outputPath, trainDirectoryName), labelNames, (i-1)*10000);\n",
    "    end\n",
    "    iLoadBatchAndWriteAsImagesToLabelFolders(fullfile(inputPath,'test_batch.mat'), fullfile(outputPath, testDirectoryName), labelNames, 0);\n",
    "else\n",
    "    for i = 1:5\n",
    "        iLoadBatchAndWriteAsImages(fullfile(inputPath,['data_batch_' num2str(i) '.mat']), fullfile(outputPath, trainDirectoryName), (i-1)*10000);\n",
    "    end\n",
    "    iLoadBatchAndWriteAsImages(fullfile(inputPath,'test_batch.mat'), fullfile(outputPath, testDirectoryName), 0);\n",
    "end\n",
    "end\n",
    "\n",
    "function iLoadBatchAndWriteAsImagesToLabelFolders(fullInputBatchPath, fullOutputDirectoryPath, labelNames, nameIndexOffset)\n",
    "load(fullInputBatchPath);\n",
    "data = data'; %#ok<NODEF>\n",
    "data = reshape(data, 32,32,3,[]);\n",
    "data = permute(data, [2 1 3 4]);\n",
    "for i = 1:size(data,4)\n",
    "    imwrite(data(:,:,:,i), fullfile(fullOutputDirectoryPath, labelNames{labels(i)+1}, ['image' num2str(i + nameIndexOffset) '.png']));\n",
    "end\n",
    "end\n",
    "\n",
    "function iLoadBatchAndWriteAsImages(fullInputBatchPath, fullOutputDirectoryPath, nameIndexOffset)\n",
    "load(fullInputBatchPath);\n",
    "data = data'; %#ok<NODEF>\n",
    "data = reshape(data, 32,32,3,[]);\n",
    "data = permute(data, [2 1 3 4]);\n",
    "for i = 1:size(data,4)\n",
    "    imwrite(data(:,:,:,i), fullfile(fullOutputDirectoryPath, ['image' num2str(i + nameIndexOffset) '.png']));\n",
    "end\n",
    "end\n",
    "\n",
    "function iMakeTheseDirectories(outputPath, directoryNames)\n",
    "for i = 1:numel(directoryNames)\n",
    "    mkdir(fullfile(outputPath, directoryNames{i}));\n",
    "end\n",
    "end"
   ]
  },
  {
   "cell_type": "code",
   "execution_count": 2,
   "metadata": {},
   "outputs": [
    {
     "name": "stdout",
     "output_type": "stream",
     "text": [
      "Created file '/mnt/rOjterQsync/Github/matlab-paths/DeepLearning/readFunctionTrain'.\n"
     ]
    }
   ],
   "source": [
    "%%file readFunctionTrain\n",
    "% This function simply resizes the images to fit in AlexNet\n",
    "% Copyright 2017 The MathWorks, Inc.\n",
    "function I = readFunctionTrain(filename)\n",
    "% Resize the images to the size required by the network.\n",
    "I = imread(filename);\n",
    "I = imresize(I, [227 227]);"
   ]
  },
  {
   "cell_type": "code",
   "execution_count": 3,
   "metadata": {
    "scrolled": false
   },
   "outputs": [],
   "source": [
    "%% Download the CIFAR-10 dataset\n",
    "if ~exist('cifar-10-batches-mat','dir')\n",
    "    cifar10Dataset = 'cifar-10-matlab';\n",
    "    disp('Downloading 174MB CIFAR-10 dataset...');   \n",
    "    websave([cifar10Dataset,'.tar.gz'],...\n",
    "        ['https://www.cs.toronto.edu/~kriz/',cifar10Dataset,'.tar.gz']);\n",
    "    gunzip([cifar10Dataset,'.tar.gz'])\n",
    "    delete([cifar10Dataset,'.tar.gz'])\n",
    "    untar([cifar10Dataset,'.tar'])\n",
    "    delete([cifar10Dataset,'.tar'])\n",
    "end    \n",
    "\n",
    "%% Prepare the CIFAR-10 dataset\n",
    "if ~exist('cifar10Train','dir')\n",
    "    disp('Saving the Images in folders. This might take some time...');    \n",
    "    saveCIFAR10AsFolderOfImages('cifar-10-batches-mat', pwd, true);\n",
    "end"
   ]
  },
  {
   "cell_type": "markdown",
   "metadata": {},
   "source": [
    "### Deep Learning Example: Traning from scratch using CIFAR-10 Dataset\n",
    "Copyright 2017 The MathWorks, Inc.\n",
    "This example explores creating a convolutional neural network (CNN) from scratch. \n",
    "You will need to download images in order to run this example.\n",
    "Please see the file in this directory: DownloadCIFAR10.m \n",
    "Running this file will help you download CIFAR10 if you choose to use those images."
   ]
  },
  {
   "cell_type": "code",
   "execution_count": 4,
   "metadata": {},
   "outputs": [],
   "source": [
    "% Load training data\n",
    "% Please note: these are 4 of the 10 categories available\n",
    "% Feel free to choose which ever you like best!\n",
    "categories = {'deer','dog','frog','cat'};\n",
    "\n",
    "rootFolder = 'cifar10Train';\n",
    "imds = imageDatastore(fullfile(rootFolder, categories), ...\n",
    "    'LabelSource', 'foldernames');"
   ]
  },
  {
   "cell_type": "markdown",
   "metadata": {},
   "source": [
    "### Define Layers\n",
    "Training from scratch gives you a lot of freedom to explore the architecture. Take a look at this architecture and see how you might want to alter it: for example, how would you add another convolutional layer?"
   ]
  },
  {
   "cell_type": "code",
   "execution_count": 5,
   "metadata": {},
   "outputs": [],
   "source": [
    "varSize = 32;\n",
    "conv1 = convolution2dLayer(5,varSize,'Padding',2,'BiasLearnRateFactor',2);\n",
    "conv1.Weights = gpuArray(single(randn([5 5 3 varSize])*0.0001));\n",
    "fc1 = fullyConnectedLayer(64,'BiasLearnRateFactor',2);\n",
    "fc1.Weights = gpuArray(single(randn([64 576])*0.1));\n",
    "fc2 = fullyConnectedLayer(4,'BiasLearnRateFactor',2);\n",
    "fc2.Weights = gpuArray(single(randn([4 64])*0.1));\n",
    "\n",
    "layers = [\n",
    "    imageInputLayer([varSize varSize 3]);\n",
    "    conv1;\n",
    "    maxPooling2dLayer(3,'Stride',2);\n",
    "    reluLayer();\n",
    "    convolution2dLayer(5,32,'Padding',2,'BiasLearnRateFactor',2);\n",
    "    reluLayer();\n",
    "    averagePooling2dLayer(3,'Stride',2);\n",
    "    convolution2dLayer(5,64,'Padding',2,'BiasLearnRateFactor',2);\n",
    "    reluLayer();\n",
    "    averagePooling2dLayer(3,'Stride',2);\n",
    "    fc1;\n",
    "    reluLayer();\n",
    "    fc2;\n",
    "    softmaxLayer()\n",
    "    classificationLayer()];"
   ]
  },
  {
   "cell_type": "code",
   "execution_count": 6,
   "metadata": {},
   "outputs": [],
   "source": [
    "opts = trainingOptions('sgdm', ...\n",
    "    'InitialLearnRate', 0.001, ...\n",
    "    'LearnRateSchedule', 'piecewise', ...\n",
    "    'LearnRateDropFactor', 0.1, ...\n",
    "    'LearnRateDropPeriod', 8, ...\n",
    "    'L2Regularization', 0.004, ...\n",
    "    'MaxEpochs', 10, ...\n",
    "    'MiniBatchSize', 100, ...\n",
    "    'Verbose', true);"
   ]
  },
  {
   "cell_type": "markdown",
   "metadata": {},
   "source": [
    "## Train! \n",
    "This is where the training happens. This can take a few minutes or longer depending on your hardware. Training on a GPU is recommended."
   ]
  },
  {
   "cell_type": "code",
   "execution_count": null,
   "metadata": {},
   "outputs": [
    {
     "name": "stdout",
     "output_type": "stream",
     "text": [
      "Training on single GPU.\n",
      "Initializing input data normalization.\n",
      "|========================================================================================|\n",
      "|  Epoch  |  Iteration  |  Time Elapsed  |  Mini-batch  |  Mini-batch  |  Base Learning  |\n",
      "|         |             |   (hh:mm:ss)   |   Accuracy   |     Loss     |      Rate       |\n",
      "|========================================================================================|\n",
      "|       1 |           1 |       00:00:03 |       27.00% |       1.3857 |          0.0010 |\n",
      "|       1 |          50 |       00:01:10 |       42.00% |       1.2244 |          0.0010 |\n",
      "|       1 |         100 |       00:02:16 |       52.00% |       0.9836 |          0.0010 |\n",
      "|       1 |         150 |       00:03:10 |       51.00% |       1.0899 |          0.0010 |\n",
      "|       1 |         200 |       00:03:56 |       57.00% |       1.0164 |          0.0010 |\n",
      "|       2 |         250 |       00:04:49 |       43.00% |       1.1757 |          0.0010 |\n",
      "|       2 |         300 |       00:05:27 |       61.00% |       0.8412 |          0.0010 |\n",
      "|       2 |         350 |       00:06:59 |       60.00% |       0.9274 |          0.0010 |\n",
      "|       2 |         400 |       00:08:30 |       55.00% |       1.0030 |          0.0010 |\n",
      "|       3 |         450 |       00:10:08 |       52.00% |       1.0447 |          0.0010 |\n",
      "|       3 |         500 |       00:11:36 |       67.00% |       0.7997 |          0.0010 |\n"
     ]
    }
   ],
   "source": [
    "[net, info] = trainNetwork(imds, layers, opts);"
   ]
  },
  {
   "cell_type": "markdown",
   "metadata": {},
   "source": [
    "### Load test data"
   ]
  },
  {
   "cell_type": "code",
   "execution_count": null,
   "metadata": {},
   "outputs": [],
   "source": [
    "labels = classify(net, imds_test);\n",
    "\n",
    "ii = randi(4000);\n",
    "im = imread(imds_test.Files{ii});\n",
    "imshow(im);\n",
    "if labels(ii) == imds_test.Labels(ii)\n",
    "   colorText = 'g'; \n",
    "else\n",
    "    colorText = 'r';\n",
    "end\n",
    "title(char(labels(ii)),'Color',colorText);"
   ]
  },
  {
   "cell_type": "markdown",
   "metadata": {},
   "source": [
    "### Test one at a time\n",
    "Run this section multiple times to get a feel for the random images and how they are being classified. If the title of the image is green, this is a correct prediction. If the title is red, the prediction is incorrect."
   ]
  },
  {
   "cell_type": "code",
   "execution_count": null,
   "metadata": {},
   "outputs": [],
   "source": [
    "% This could take a while if you are not using a GPU\n",
    "confMat = confusionmat(imds_test.Labels, labels);\n",
    "confMat = confMat./sum(confMat,2);\n",
    "mean(diag(confMat))"
   ]
  }
 ],
 "metadata": {
  "kernelspec": {
   "display_name": "Matlab",
   "language": "matlab",
   "name": "matlab"
  },
  "language_info": {
   "codemirror_mode": "octave",
   "file_extension": ".m",
   "help_links": [
    {
     "text": "MetaKernel Magics",
     "url": "https://metakernel.readthedocs.io/en/latest/source/README.html"
    }
   ],
   "mimetype": "text/x-octave",
   "name": "matlab",
   "version": "0.16.7"
  }
 },
 "nbformat": 4,
 "nbformat_minor": 2
}
