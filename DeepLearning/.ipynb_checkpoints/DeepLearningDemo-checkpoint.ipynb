{
 "cells": [
  {
   "cell_type": "markdown",
   "metadata": {},
   "source": [
    "Running this file will download CIFAR10 and place the images into a\n",
    "training folder and test folder in the current directory\n",
    "These will be used for the three demos in this folder. \n",
    "Please note this will take a few minutes to run, but only needs to be run\n",
    "once.\n",
    "\n",
    "Copyright 2017 The MathWorks, Inc."
   ]
  },
  {
   "cell_type": "code",
   "execution_count": 36,
   "metadata": {},
   "outputs": [
    {
     "name": "stdout",
     "output_type": "stream",
     "text": [
      "Created file '/home/dreuter/Github/matlab-paths/DeepLearning/saveCIFAR10AsFolderOfImages.m'.\n"
     ]
    }
   ],
   "source": [
    "%%file saveCIFAR10AsFolderOfImages.m\n",
    "function saveCIFAR10AsFolderOfImages(inputPath, outputPath, varargin)\n",
    "% saveCIFAR10AsFolderOfImages   Save the CIFAR-10 dataset as a folder of images\n",
    "%   saveCIFAR10AsFolderOfImages(inputPath, outputPath) takes the CIFAR-10\n",
    "%   dataset located at inputPath and saves it as a folder of images to the\n",
    "%   directory outputPath. If inputPath or outputPath is an empty string, it\n",
    "%   is assumed that the current folder should be used.\n",
    "%\n",
    "%   saveCIFAR10AsFolderOfImages(..., labelDirectories) will save the\n",
    "%   CIFAR-10 data so that instances with the same label will be saved to\n",
    "%   sub-directories with the name of that label.\n",
    "\n",
    "% Check input directories are valid\n",
    "if(~isempty(inputPath))\n",
    "    assert(exist(inputPath,'dir') == 7);\n",
    "end\n",
    "if(~isempty(outputPath))\n",
    "    assert(exist(outputPath,'dir') == 7);\n",
    "end\n",
    "\n",
    "% Check if we want to save each set with the same labels to its own\n",
    "% directory.\n",
    "if(isempty(varargin))\n",
    "    labelDirectories = false;\n",
    "else\n",
    "    assert(nargin == 3);\n",
    "    labelDirectories = varargin{1};\n",
    "end\n",
    "\n",
    "% Set names for directories\n",
    "trainDirectoryName = 'cifar10Train';\n",
    "testDirectoryName = 'cifar10Test';\n",
    "\n",
    "% Create directories for the output\n",
    "mkdir(fullfile(outputPath, trainDirectoryName));\n",
    "mkdir(fullfile(outputPath, testDirectoryName));\n",
    "\n",
    "if(labelDirectories)\n",
    "    labelNames = {'airplane','automobile','bird','cat','deer','dog','frog','horse','ship','truck'};\n",
    "    iMakeTheseDirectories(fullfile(outputPath, trainDirectoryName), labelNames);\n",
    "    iMakeTheseDirectories(fullfile(outputPath, testDirectoryName), labelNames);\n",
    "    for i = 1:5\n",
    "        iLoadBatchAndWriteAsImagesToLabelFolders(fullfile(inputPath,['data_batch_' num2str(i) '.mat']), fullfile(outputPath, trainDirectoryName), labelNames, (i-1)*10000);\n",
    "    end\n",
    "    iLoadBatchAndWriteAsImagesToLabelFolders(fullfile(inputPath,'test_batch.mat'), fullfile(outputPath, testDirectoryName), labelNames, 0);\n",
    "else\n",
    "    for i = 1:5\n",
    "        iLoadBatchAndWriteAsImages(fullfile(inputPath,['data_batch_' num2str(i) '.mat']), fullfile(outputPath, trainDirectoryName), (i-1)*10000);\n",
    "    end\n",
    "    iLoadBatchAndWriteAsImages(fullfile(inputPath,'test_batch.mat'), fullfile(outputPath, testDirectoryName), 0);\n",
    "end\n",
    "end\n",
    "\n",
    "function iLoadBatchAndWriteAsImagesToLabelFolders(fullInputBatchPath, fullOutputDirectoryPath, labelNames, nameIndexOffset)\n",
    "load(fullInputBatchPath);\n",
    "data = data'; %#ok<NODEF>\n",
    "data = reshape(data, 32,32,3,[]);\n",
    "data = permute(data, [2 1 3 4]);\n",
    "for i = 1:size(data,4)\n",
    "    imwrite(data(:,:,:,i), fullfile(fullOutputDirectoryPath, labelNames{labels(i)+1}, ['image' num2str(i + nameIndexOffset) '.png']));\n",
    "end\n",
    "end\n",
    "\n",
    "function iLoadBatchAndWriteAsImages(fullInputBatchPath, fullOutputDirectoryPath, nameIndexOffset)\n",
    "load(fullInputBatchPath);\n",
    "data = data'; %#ok<NODEF>\n",
    "data = reshape(data, 32,32,3,[]);\n",
    "data = permute(data, [2 1 3 4]);\n",
    "for i = 1:size(data,4)\n",
    "    imwrite(data(:,:,:,i), fullfile(fullOutputDirectoryPath, ['image' num2str(i + nameIndexOffset) '.png']));\n",
    "end\n",
    "end\n",
    "\n",
    "function iMakeTheseDirectories(outputPath, directoryNames)\n",
    "for i = 1:numel(directoryNames)\n",
    "    mkdir(fullfile(outputPath, directoryNames{i}));\n",
    "end\n",
    "end"
   ]
  },
  {
   "cell_type": "code",
   "execution_count": 39,
   "metadata": {},
   "outputs": [
    {
     "name": "stdout",
     "output_type": "stream",
     "text": [
      "Created file '/home/dreuter/Github/matlab-paths/DeepLearning/readFunctionTrain.m'.\n"
     ]
    }
   ],
   "source": [
    "%%file readFunctionTrain.m\n",
    "% This function simply resizes the images to fit in AlexNet\n",
    "% Copyright 2017 The MathWorks, Inc.\n",
    "function I = readFunctionTrain(filename)\n",
    "% Resize the images to the size required by the network.\n",
    "I = imread(filename);\n",
    "I = imresize(I, [227 227]);"
   ]
  },
  {
   "cell_type": "code",
   "execution_count": 38,
   "metadata": {
    "scrolled": false
   },
   "outputs": [],
   "source": [
    "%% Download the CIFAR-10 dataset\n",
    "if ~exist('cifar-10-batches-mat','dir')\n",
    "    cifar10Dataset = 'cifar-10-matlab';\n",
    "    disp('Downloading 174MB CIFAR-10 dataset...');   \n",
    "    websave([cifar10Dataset,'.tar.gz'],...\n",
    "        ['https://www.cs.toronto.edu/~kriz/',cifar10Dataset,'.tar.gz']);\n",
    "    gunzip([cifar10Dataset,'.tar.gz'])\n",
    "    delete([cifar10Dataset,'.tar.gz'])\n",
    "    untar([cifar10Dataset,'.tar'])\n",
    "    delete([cifar10Dataset,'.tar'])\n",
    "end    \n",
    "\n",
    "%% Prepare the CIFAR-10 dataset\n",
    "if ~exist('cifar10Train','dir')\n",
    "    disp('Saving the Images in folders. This might take some time...');    \n",
    "    saveCIFAR10AsFolderOfImages('cifar-10-batches-mat', pwd, true);\n",
    "end"
   ]
  },
  {
   "cell_type": "markdown",
   "metadata": {},
   "source": [
    "### Deep Learning Example: Traning from scratch using CIFAR-10 Dataset\n",
    "Copyright 2017 The MathWorks, Inc.\n",
    "This example explores creating a convolutional neural network (CNN) from scratch. \n",
    "You will need to download images in order to run this example.\n",
    "Please see the file in this directory: DownloadCIFAR10.m \n",
    "Running this file will help you download CIFAR10 if you choose to use those images."
   ]
  },
  {
   "cell_type": "code",
   "execution_count": 4,
   "metadata": {},
   "outputs": [],
   "source": [
    "% Load training data\n",
    "% Please note: these are 4 of the 10 categories available\n",
    "% Feel free to choose which ever you like best!\n",
    "categories = {'deer','dog','frog','cat'};\n",
    "\n",
    "rootFolder = 'cifar10Train';\n",
    "imds = imageDatastore(fullfile(rootFolder, categories), ...\n",
    "    'LabelSource', 'foldernames');"
   ]
  },
  {
   "cell_type": "markdown",
   "metadata": {},
   "source": [
    "### Define Layers\n",
    "Training from scratch gives you a lot of freedom to explore the architecture. Take a look at this architecture and see how you might want to alter it: for example, how would you add another convolutional layer?"
   ]
  },
  {
   "cell_type": "code",
   "execution_count": 5,
   "metadata": {},
   "outputs": [],
   "source": [
    "varSize = 32;\n",
    "conv1 = convolution2dLayer(5,varSize,'Padding',2,'BiasLearnRateFactor',2);\n",
    "conv1.Weights = gpuArray(single(randn([5 5 3 varSize])*0.0001));\n",
    "fc1 = fullyConnectedLayer(64,'BiasLearnRateFactor',2);\n",
    "fc1.Weights = gpuArray(single(randn([64 576])*0.1));\n",
    "fc2 = fullyConnectedLayer(4,'BiasLearnRateFactor',2);\n",
    "fc2.Weights = gpuArray(single(randn([4 64])*0.1));\n",
    "\n",
    "layers = [\n",
    "    imageInputLayer([varSize varSize 3]);\n",
    "    conv1;\n",
    "    maxPooling2dLayer(3,'Stride',2);\n",
    "    reluLayer();\n",
    "    convolution2dLayer(5,32,'Padding',2,'BiasLearnRateFactor',2);\n",
    "    reluLayer();\n",
    "    averagePooling2dLayer(3,'Stride',2);\n",
    "    convolution2dLayer(5,64,'Padding',2,'BiasLearnRateFactor',2);\n",
    "    reluLayer();\n",
    "    averagePooling2dLayer(3,'Stride',2);\n",
    "    fc1;\n",
    "    reluLayer();\n",
    "    fc2;\n",
    "    softmaxLayer()\n",
    "    classificationLayer()];"
   ]
  },
  {
   "cell_type": "markdown",
   "metadata": {},
   "source": [
    "### Define options"
   ]
  },
  {
   "cell_type": "code",
   "execution_count": 7,
   "metadata": {},
   "outputs": [],
   "source": [
    "opts = trainingOptions('sgdm', ...\n",
    "    'InitialLearnRate', 0.001, ...\n",
    "    'LearnRateSchedule', 'piecewise', ...\n",
    "    'LearnRateDropFactor', 0.1, ...\n",
    "    'LearnRateDropPeriod', 8, ...\n",
    "    'L2Regularization', 0.004, ...\n",
    "    'MaxEpochs', 10, ...\n",
    "    'MiniBatchSize', 100, ...\n",
    "    'Verbose', true);"
   ]
  },
  {
   "cell_type": "markdown",
   "metadata": {},
   "source": [
    "## Train! \n",
    "This is where the training happens. This can take a few minutes or longer depending on your hardware. Training on a GPU is recommended."
   ]
  },
  {
   "cell_type": "code",
   "execution_count": 8,
   "metadata": {},
   "outputs": [
    {
     "name": "stdout",
     "output_type": "stream",
     "text": [
      "Training on single GPU.\n",
      "Initializing input data normalization.\n",
      "|========================================================================================|\n",
      "|  Epoch  |  Iteration  |  Time Elapsed  |  Mini-batch  |  Mini-batch  |  Base Learning  |\n",
      "|         |             |   (hh:mm:ss)   |   Accuracy   |     Loss     |      Rate       |\n",
      "|========================================================================================|\n",
      "|       1 |           1 |       00:00:01 |       27.00% |       1.3857 |          0.0010 |\n",
      "|       1 |          50 |       00:00:03 |       41.00% |       1.2857 |          0.0010 |\n",
      "|       1 |         100 |       00:00:04 |       55.00% |       0.9730 |          0.0010 |\n",
      "|       1 |         150 |       00:00:06 |       47.00% |       1.0934 |          0.0010 |\n",
      "|       1 |         200 |       00:00:07 |       47.00% |       1.1127 |          0.0010 |\n",
      "|       2 |         250 |       00:00:09 |       45.00% |       1.1129 |          0.0010 |\n",
      "|       2 |         300 |       00:00:10 |       64.00% |       0.8841 |          0.0010 |\n",
      "|       2 |         350 |       00:00:12 |       56.00% |       0.8886 |          0.0010 |\n",
      "|       2 |         400 |       00:00:13 |       56.00% |       1.0432 |          0.0010 |\n",
      "|       3 |         450 |       00:00:14 |       54.00% |       1.0372 |          0.0010 |\n",
      "|       3 |         500 |       00:00:16 |       70.00% |       0.7576 |          0.0010 |\n",
      "|       3 |         550 |       00:00:17 |       63.00% |       0.7910 |          0.0010 |\n",
      "|       3 |         600 |       00:00:19 |       58.00% |       0.9668 |          0.0010 |\n",
      "|       4 |         650 |       00:00:20 |       56.00% |       1.0434 |          0.0010 |\n",
      "|       4 |         700 |       00:00:21 |       72.00% |       0.6926 |          0.0010 |\n",
      "|       4 |         750 |       00:00:23 |       63.00% |       0.7671 |          0.0010 |\n",
      "|       4 |         800 |       00:00:24 |       68.00% |       0.8799 |          0.0010 |\n",
      "|       5 |         850 |       00:00:26 |       60.00% |       0.9506 |          0.0010 |\n",
      "|       5 |         900 |       00:00:27 |       71.00% |       0.6503 |          0.0010 |\n",
      "|       5 |         950 |       00:00:28 |       67.00% |       0.7191 |          0.0010 |\n",
      "|       5 |        1000 |       00:00:30 |       67.00% |       0.8965 |          0.0010 |\n",
      "|       6 |        1050 |       00:00:31 |       65.00% |       0.8775 |          0.0010 |\n",
      "|       6 |        1100 |       00:00:32 |       76.00% |       0.6639 |          0.0010 |\n",
      "|       6 |        1150 |       00:00:34 |       66.00% |       0.7151 |          0.0010 |\n",
      "|       6 |        1200 |       00:00:35 |       69.00% |       0.8452 |          0.0010 |\n",
      "|       7 |        1250 |       00:00:37 |       67.00% |       0.8503 |          0.0010 |\n",
      "|       7 |        1300 |       00:00:38 |       76.00% |       0.6595 |          0.0010 |\n",
      "|       7 |        1350 |       00:00:40 |       70.00% |       0.6601 |          0.0010 |\n",
      "|       7 |        1400 |       00:00:41 |       74.00% |       0.7820 |          0.0010 |\n",
      "|       8 |        1450 |       00:00:42 |       72.00% |       0.8281 |          0.0010 |\n",
      "|       8 |        1500 |       00:00:44 |       76.00% |       0.6441 |          0.0010 |\n",
      "|       8 |        1550 |       00:00:45 |       70.00% |       0.6314 |          0.0010 |\n",
      "|       8 |        1600 |       00:00:47 |       77.00% |       0.7453 |          0.0010 |\n",
      "|       9 |        1650 |       00:00:48 |       70.00% |       0.7425 |          0.0001 |\n",
      "|       9 |        1700 |       00:00:49 |       81.00% |       0.5278 |          0.0001 |\n",
      "|       9 |        1750 |       00:00:51 |       75.00% |       0.5809 |          0.0001 |\n",
      "|       9 |        1800 |       00:00:53 |       79.00% |       0.5749 |          0.0001 |\n",
      "|      10 |        1850 |       00:00:54 |       70.00% |       0.7028 |          0.0001 |\n",
      "|      10 |        1900 |       00:00:55 |       80.00% |       0.5138 |          0.0001 |\n",
      "|      10 |        1950 |       00:00:57 |       74.00% |       0.5463 |          0.0001 |\n",
      "|      10 |        2000 |       00:00:58 |       79.00% |       0.5768 |          0.0001 |\n",
      "|========================================================================================|\n"
     ]
    }
   ],
   "source": [
    "[net, info] = trainNetwork(imds, layers, opts);"
   ]
  },
  {
   "cell_type": "markdown",
   "metadata": {},
   "source": [
    "### Load test data"
   ]
  },
  {
   "cell_type": "code",
   "execution_count": 17,
   "metadata": {},
   "outputs": [
    {
     "data": {
      "image/png": "[encoded data removed]",
      "text/plain": [
       "<IPython.core.display.Image object>"
      ]
     },
     "metadata": {},
     "output_type": "display_data"
    }
   ],
   "source": [
    "rootFolder = 'cifar10Test';\n",
    "imds_test = imageDatastore(fullfile(rootFolder, categories), ...\n",
    "    'LabelSource', 'foldernames');\n",
    "\n",
    "labels = classify(net, imds_test);\n",
    "\n",
    "ii = randi(4000);\n",
    "im = imread(imds_test.Files{ii});\n",
    "imshow(im);\n",
    "if labels(ii) == imds_test.Labels(ii)\n",
    "   colorText = 'g'; \n",
    "else\n",
    "    colorText = 'r';\n",
    "end\n",
    "title(char(labels(ii)),'Color',colorText);"
   ]
  },
  {
   "cell_type": "markdown",
   "metadata": {},
   "source": [
    "### Test one at a time\n",
    "Run this section multiple times to get a feel for the random images and how they are being classified. If the title of the image is green, this is a correct prediction. If the title is red, the prediction is incorrect."
   ]
  },
  {
   "cell_type": "code",
   "execution_count": 35,
   "metadata": {},
   "outputs": [
    {
     "name": "stdout",
     "output_type": "stream",
     "text": [
      "\n",
      "ans =\n",
      "\n",
      "    0.7380\n",
      "\n"
     ]
    }
   ],
   "source": [
    "confMat = confusionmat(imds_test.Labels, labels);\n",
    "confMat = confMat./sum(confMat,2);\n",
    "mean(diag(confMat))"
   ]
  },
  {
   "cell_type": "code",
   "execution_count": null,
   "metadata": {},
   "outputs": [],
   "source": []
  }
 ],
 "metadata": {
  "kernelspec": {
   "display_name": "Matlab",
   "language": "matlab",
   "name": "matlab"
  },
  "language_info": {
   "codemirror_mode": "octave",
   "file_extension": ".m",
   "help_links": [
    {
     "text": "MetaKernel Magics",
     "url": "https://metakernel.readthedocs.io/en/latest/source/README.html"
    }
   ],
   "mimetype": "text/x-octave",
   "name": "matlab",
   "version": "0.16.7"
  }
 },
 "nbformat": 4,
 "nbformat_minor": 2
}
