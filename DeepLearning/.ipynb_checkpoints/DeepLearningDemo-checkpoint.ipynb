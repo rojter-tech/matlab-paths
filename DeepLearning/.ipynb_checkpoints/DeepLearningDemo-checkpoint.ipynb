{
 "cells": [
  {
   "cell_type": "markdown",
   "metadata": {},
   "source": [
    "% Running this file will download CIFAR10 and place the images into a\n",
    "% training folder and test folder in the current directory\n",
    "% These will be used for the three demos in this folder. \n",
    "% Please note this will take a few minutes to run, but only needs to be run\n",
    "% once.\n",
    "\n",
    "% Copyright 2017 The MathWorks, Inc."
   ]
  },
  {
   "cell_type": "code",
   "execution_count": null,
   "metadata": {},
   "outputs": [],
   "source": [
    "%% Download the CIFAR-10 dataset\n",
    "if ~exist('cifar-10-batches-mat','dir')\n",
    "    cifar10Dataset = 'cifar-10-matlab';\n",
    "    disp('Downloading 174MB CIFAR-10 dataset...');   \n",
    "    websave([cifar10Dataset,'.tar.gz'],...\n",
    "        ['https://www.cs.toronto.edu/~kriz/',cifar10Dataset,'.tar.gz']);\n",
    "    gunzip([cifar10Dataset,'.tar.gz'])\n",
    "    delete([cifar10Dataset,'.tar.gz'])\n",
    "    untar([cifar10Dataset,'.tar'])\n",
    "    delete([cifar10Dataset,'.tar'])\n",
    "end    \n",
    "\n",
    "%% Prepare the CIFAR-10 dataset\n",
    "if ~exist('cifar10Train','dir')\n",
    "    disp('Saving the Images in folders. This might take some time...');    \n",
    "    saveCIFAR10AsFolderOfImages('cifar-10-batches-mat', pwd, true);\n",
    "end"
   ]
  }
 ],
 "metadata": {
  "kernelspec": {
   "display_name": "Matlab",
   "language": "matlab",
   "name": "matlab"
  },
  "language_info": {
   "codemirror_mode": "octave",
   "file_extension": ".m",
   "help_links": [
    {
     "text": "MetaKernel Magics",
     "url": "https://metakernel.readthedocs.io/en/latest/source/README.html"
    }
   ],
   "mimetype": "text/x-octave",
   "name": "matlab",
   "version": "0.16.7"
  }
 },
 "nbformat": 4,
 "nbformat_minor": 2
}
