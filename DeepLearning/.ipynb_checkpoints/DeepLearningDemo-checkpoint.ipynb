{
 "cells": [
  {
   "cell_type": "markdown",
   "metadata": {},
   "source": [
    "Running this file will download CIFAR10 and place the images into a\n",
    "training folder and test folder in the current directory\n",
    "These will be used for the three demos in this folder. \n",
    "Please note this will take a few minutes to run, but only needs to be run\n",
    "once.\n",
    "\n",
    "Copyright 2017 The MathWorks, Inc."
   ]
  },
  {
   "cell_type": "code",
   "execution_count": 1,
   "metadata": {},
   "outputs": [
    {
     "name": "stdout",
     "output_type": "stream",
     "text": [
      "Created file '/home/dreuter/Github/matlab-paths/DeepLearning/saveCIFAR10AsFolderOfImages.m'.\n"
     ]
    }
   ],
   "source": [
    "%%file saveCIFAR10AsFolderOfImages.m\n",
    "function saveCIFAR10AsFolderOfImages(inputPath, outputPath, varargin)\n",
    "% saveCIFAR10AsFolderOfImages   Save the CIFAR-10 dataset as a folder of images\n",
    "%   saveCIFAR10AsFolderOfImages(inputPath, outputPath) takes the CIFAR-10\n",
    "%   dataset located at inputPath and saves it as a folder of images to the\n",
    "%   directory outputPath. If inputPath or outputPath is an empty string, it\n",
    "%   is assumed that the current folder should be used.\n",
    "%\n",
    "%   saveCIFAR10AsFolderOfImages(..., labelDirectories) will save the\n",
    "%   CIFAR-10 data so that instances with the same label will be saved to\n",
    "%   sub-directories with the name of that label.\n",
    "\n",
    "% Check input directories are valid\n",
    "if(~isempty(inputPath))\n",
    "    assert(exist(inputPath,'dir') == 7);\n",
    "end\n",
    "if(~isempty(outputPath))\n",
    "    assert(exist(outputPath,'dir') == 7);\n",
    "end\n",
    "\n",
    "% Check if we want to save each set with the same labels to its own\n",
    "% directory.\n",
    "if(isempty(varargin))\n",
    "    labelDirectories = false;\n",
    "else\n",
    "    assert(nargin == 3);\n",
    "    labelDirectories = varargin{1};\n",
    "end\n",
    "\n",
    "% Set names for directories\n",
    "trainDirectoryName = 'cifar10Train';\n",
    "testDirectoryName = 'cifar10Test';\n",
    "\n",
    "% Create directories for the output\n",
    "mkdir(fullfile(outputPath, trainDirectoryName));\n",
    "mkdir(fullfile(outputPath, testDirectoryName));\n",
    "\n",
    "if(labelDirectories)\n",
    "    labelNames = {'airplane','automobile','bird','cat','deer','dog','frog','horse','ship','truck'};\n",
    "    iMakeTheseDirectories(fullfile(outputPath, trainDirectoryName), labelNames);\n",
    "    iMakeTheseDirectories(fullfile(outputPath, testDirectoryName), labelNames);\n",
    "    for i = 1:5\n",
    "        iLoadBatchAndWriteAsImagesToLabelFolders(fullfile(inputPath,['data_batch_' num2str(i) '.mat']), fullfile(outputPath, trainDirectoryName), labelNames, (i-1)*10000);\n",
    "    end\n",
    "    iLoadBatchAndWriteAsImagesToLabelFolders(fullfile(inputPath,'test_batch.mat'), fullfile(outputPath, testDirectoryName), labelNames, 0);\n",
    "else\n",
    "    for i = 1:5\n",
    "        iLoadBatchAndWriteAsImages(fullfile(inputPath,['data_batch_' num2str(i) '.mat']), fullfile(outputPath, trainDirectoryName), (i-1)*10000);\n",
    "    end\n",
    "    iLoadBatchAndWriteAsImages(fullfile(inputPath,'test_batch.mat'), fullfile(outputPath, testDirectoryName), 0);\n",
    "end\n",
    "end\n",
    "\n",
    "function iLoadBatchAndWriteAsImagesToLabelFolders(fullInputBatchPath, fullOutputDirectoryPath, labelNames, nameIndexOffset)\n",
    "load(fullInputBatchPath);\n",
    "data = data'; %#ok<NODEF>\n",
    "data = reshape(data, 32,32,3,[]);\n",
    "data = permute(data, [2 1 3 4]);\n",
    "for i = 1:size(data,4)\n",
    "    imwrite(data(:,:,:,i), fullfile(fullOutputDirectoryPath, labelNames{labels(i)+1}, ['image' num2str(i + nameIndexOffset) '.png']));\n",
    "end\n",
    "end\n",
    "\n",
    "function iLoadBatchAndWriteAsImages(fullInputBatchPath, fullOutputDirectoryPath, nameIndexOffset)\n",
    "load(fullInputBatchPath);\n",
    "data = data'; %#ok<NODEF>\n",
    "data = reshape(data, 32,32,3,[]);\n",
    "data = permute(data, [2 1 3 4]);\n",
    "for i = 1:size(data,4)\n",
    "    imwrite(data(:,:,:,i), fullfile(fullOutputDirectoryPath, ['image' num2str(i + nameIndexOffset) '.png']));\n",
    "end\n",
    "end\n",
    "\n",
    "function iMakeTheseDirectories(outputPath, directoryNames)\n",
    "for i = 1:numel(directoryNames)\n",
    "    mkdir(fullfile(outputPath, directoryNames{i}));\n",
    "end\n",
    "end"
   ]
  },
  {
   "cell_type": "code",
   "execution_count": 2,
   "metadata": {},
   "outputs": [
    {
     "name": "stdout",
     "output_type": "stream",
     "text": [
      "Created file '/home/dreuter/Github/matlab-paths/DeepLearning/readFunctionTrain.m'.\n"
     ]
    }
   ],
   "source": [
    "%%file readFunctionTrain.m\n",
    "% This function simply resizes the images to fit in AlexNet\n",
    "% Copyright 2017 The MathWorks, Inc.\n",
    "function I = readFunctionTrain(filename)\n",
    "% Resize the images to the size required by the network.\n",
    "I = imread(filename);\n",
    "I = imresize(I, [227 227]);"
   ]
  },
  {
   "cell_type": "code",
   "execution_count": 3,
   "metadata": {},
   "outputs": [],
   "source": [
    "%% Download the CIFAR-10 dataset\n",
    "if ~exist('cifar-10-batches-mat','dir')\n",
    "    cifar10Dataset = 'cifar-10-matlab';\n",
    "    disp('Downloading 174MB CIFAR-10 dataset...');   \n",
    "    websave([cifar10Dataset,'.tar.gz'],...\n",
    "        ['https://www.cs.toronto.edu/~kriz/',cifar10Dataset,'.tar.gz']);\n",
    "    gunzip([cifar10Dataset,'.tar.gz'])\n",
    "    delete([cifar10Dataset,'.tar.gz'])\n",
    "    untar([cifar10Dataset,'.tar'])\n",
    "    delete([cifar10Dataset,'.tar'])\n",
    "end    \n",
    "\n",
    "%% Prepare the CIFAR-10 dataset\n",
    "if ~exist('cifar10Train','dir')\n",
    "    disp('Saving the Images in folders. This might take some time...');    \n",
    "    saveCIFAR10AsFolderOfImages('cifar-10-batches-mat', pwd, true);\n",
    "end"
   ]
  },
  {
   "cell_type": "markdown",
   "metadata": {},
   "source": [
    "### Deep Learning Example: Traning from scratch using CIFAR-10 Dataset\n",
    "Copyright 2017 The MathWorks, Inc.\n",
    "This example explores creating a convolutional neural network (CNN) from scratch. \n",
    "You will need to download images in order to run this example.\n",
    "Please see the file in this directory: DownloadCIFAR10.m \n",
    "Running this file will help you download CIFAR10 if you choose to use those images."
   ]
  },
  {
   "cell_type": "markdown",
   "metadata": {},
   "source": [
    "### Load training data"
   ]
  },
  {
   "cell_type": "code",
   "execution_count": 4,
   "metadata": {},
   "outputs": [],
   "source": [
    "% Please note: these are 4 of the 10 categories available\n",
    "% Feel free to choose which ever you like best!\n",
    "categories = {'deer','dog','frog','cat'};\n",
    "\n",
    "rootFolder = 'cifar10Train';\n",
    "imds = imageDatastore(fullfile(rootFolder, categories), ...\n",
    "    'LabelSource', 'foldernames');"
   ]
  },
  {
   "cell_type": "markdown",
   "metadata": {},
   "source": [
    "### Define Layers\n",
    "Training from scratch gives you a lot of freedom to explore the architecture. Take a look at this architecture and see how you might want to alter it: for example, how would you add another convolutional layer?"
   ]
  },
  {
   "cell_type": "code",
   "execution_count": 5,
   "metadata": {},
   "outputs": [],
   "source": [
    "varSize = 32;\n",
    "conv1 = convolution2dLayer(5,varSize,'Padding',2,'BiasLearnRateFactor',2);\n",
    "conv1.Weights = gpuArray(single(randn([5 5 3 varSize])*0.0001));\n",
    "fc1 = fullyConnectedLayer(64,'BiasLearnRateFactor',2);\n",
    "fc1.Weights = gpuArray(single(randn([64 576])*0.1));\n",
    "fc2 = fullyConnectedLayer(4,'BiasLearnRateFactor',2);\n",
    "fc2.Weights = gpuArray(single(randn([4 64])*0.1));\n",
    "\n",
    "layers = [\n",
    "    imageInputLayer([varSize varSize 3]);\n",
    "    conv1;\n",
    "    maxPooling2dLayer(3,'Stride',2);\n",
    "    reluLayer();\n",
    "    convolution2dLayer(5,32,'Padding',2,'BiasLearnRateFactor',2);\n",
    "    reluLayer();\n",
    "    averagePooling2dLayer(3,'Stride',2);\n",
    "    convolution2dLayer(5,64,'Padding',2,'BiasLearnRateFactor',2);\n",
    "    reluLayer();\n",
    "    averagePooling2dLayer(3,'Stride',2);\n",
    "    fc1;\n",
    "    reluLayer();\n",
    "    fc2;\n",
    "    softmaxLayer()\n",
    "    classificationLayer()];"
   ]
  },
  {
   "cell_type": "markdown",
   "metadata": {},
   "source": [
    "### Define options"
   ]
  },
  {
   "cell_type": "code",
   "execution_count": 6,
   "metadata": {},
   "outputs": [],
   "source": [
    "opts = trainingOptions('sgdm', ...\n",
    "    'InitialLearnRate', 0.001, ...\n",
    "    'LearnRateSchedule', 'piecewise', ...\n",
    "    'LearnRateDropFactor', 0.1, ...\n",
    "    'LearnRateDropPeriod', 8, ...\n",
    "    'L2Regularization', 0.004, ...\n",
    "    'MaxEpochs', 10, ...\n",
    "    'MiniBatchSize', 100, ...\n",
    "    'Verbose', true);"
   ]
  },
  {
   "cell_type": "markdown",
   "metadata": {},
   "source": [
    "## Train! \n",
    "This is where the training happens. This can take a few minutes or longer depending on your hardware. Training on a GPU is recommended."
   ]
  },
  {
   "cell_type": "code",
   "execution_count": 7,
   "metadata": {},
   "outputs": [
    {
     "name": "stdout",
     "output_type": "stream",
     "text": [
      "Training on single GPU.\n",
      "Initializing input data normalization.\n",
      "|========================================================================================|\n",
      "|  Epoch  |  Iteration  |  Time Elapsed  |  Mini-batch  |  Mini-batch  |  Base Learning  |\n",
      "|         |             |   (hh:mm:ss)   |   Accuracy   |     Loss     |      Rate       |\n",
      "|========================================================================================|\n",
      "|       1 |           1 |       00:00:05 |       27.00% |       1.3857 |          0.0010 |\n",
      "|       1 |          50 |       00:00:09 |       39.00% |       1.2233 |          0.0010 |\n",
      "|       1 |         100 |       00:00:13 |       58.00% |       0.9741 |          0.0010 |\n",
      "|       1 |         150 |       00:00:17 |       55.00% |       1.0651 |          0.0010 |\n",
      "|       1 |         200 |       00:00:21 |       53.00% |       1.0766 |          0.0010 |\n",
      "|       2 |         250 |       00:00:25 |       47.00% |       1.0926 |          0.0010 |\n",
      "|       2 |         300 |       00:00:28 |       68.00% |       0.8458 |          0.0010 |\n",
      "|       2 |         350 |       00:00:32 |       54.00% |       0.9063 |          0.0010 |\n",
      "|       2 |         400 |       00:00:35 |       58.00% |       0.9417 |          0.0010 |\n",
      "|       3 |         450 |       00:00:38 |       52.00% |       0.9809 |          0.0010 |\n",
      "|       3 |         500 |       00:00:43 |       70.00% |       0.8037 |          0.0010 |\n",
      "|       3 |         550 |       00:01:06 |       64.00% |       0.8283 |          0.0010 |\n",
      "|       3 |         600 |       00:01:26 |       59.00% |       0.9673 |          0.0010 |\n",
      "|       4 |         650 |       00:01:46 |       57.00% |       0.9392 |          0.0010 |\n",
      "|       4 |         700 |       00:02:05 |       73.00% |       0.7197 |          0.0010 |\n",
      "|       4 |         750 |       00:02:14 |       65.00% |       0.7878 |          0.0010 |\n",
      "|       4 |         800 |       00:02:17 |       59.00% |       0.9181 |          0.0010 |\n",
      "|       5 |         850 |       00:02:20 |       61.00% |       0.8733 |          0.0010 |\n",
      "|       5 |         900 |       00:02:24 |       72.00% |       0.7163 |          0.0010 |\n",
      "|       5 |         950 |       00:02:27 |       65.00% |       0.7479 |          0.0010 |\n",
      "|       5 |        1000 |       00:02:31 |       62.00% |       0.8792 |          0.0010 |\n",
      "|       6 |        1050 |       00:02:35 |       63.00% |       0.8446 |          0.0010 |\n",
      "|       6 |        1100 |       00:02:39 |       76.00% |       0.6789 |          0.0010 |\n",
      "|       6 |        1150 |       00:02:42 |       66.00% |       0.7157 |          0.0010 |\n",
      "|       6 |        1200 |       00:02:46 |       62.00% |       0.7970 |          0.0010 |\n",
      "|       7 |        1250 |       00:02:49 |       68.00% |       0.8351 |          0.0010 |\n",
      "|       7 |        1300 |       00:02:53 |       70.00% |       0.6860 |          0.0010 |\n",
      "|       7 |        1350 |       00:02:58 |       67.00% |       0.6809 |          0.0010 |\n",
      "|       7 |        1400 |       00:03:01 |       66.00% |       0.7621 |          0.0010 |\n",
      "|       8 |        1450 |       00:03:04 |       68.00% |       0.8086 |          0.0010 |\n",
      "|       8 |        1500 |       00:03:06 |       71.00% |       0.6722 |          0.0010 |\n",
      "|       8 |        1550 |       00:03:09 |       69.00% |       0.6542 |          0.0010 |\n",
      "|       8 |        1600 |       00:03:12 |       72.00% |       0.7623 |          0.0010 |\n",
      "|       9 |        1650 |       00:03:15 |       71.00% |       0.7881 |          0.0001 |\n",
      "|       9 |        1700 |       00:03:19 |       77.00% |       0.5998 |          0.0001 |\n",
      "|       9 |        1750 |       00:03:22 |       76.00% |       0.6252 |          0.0001 |\n",
      "|       9 |        1800 |       00:03:25 |       74.00% |       0.6442 |          0.0001 |\n",
      "|      10 |        1850 |       00:03:27 |       70.00% |       0.7487 |          0.0001 |\n",
      "|      10 |        1900 |       00:03:30 |       75.00% |       0.5565 |          0.0001 |\n",
      "|      10 |        1950 |       00:03:34 |       77.00% |       0.5904 |          0.0001 |\n",
      "|      10 |        2000 |       00:03:37 |       75.00% |       0.6551 |          0.0001 |\n",
      "|========================================================================================|\n"
     ]
    }
   ],
   "source": [
    "[net, info] = trainNetwork(imds, layers, opts);"
   ]
  },
  {
   "cell_type": "markdown",
   "metadata": {},
   "source": [
    "### Load test data"
   ]
  },
  {
   "cell_type": "code",
   "execution_count": 8,
   "metadata": {},
   "outputs": [],
   "source": [
    "rootFolder = 'cifar10Test';\n",
    "imds_test = imageDatastore(fullfile(rootFolder, categories), ...\n",
    "    'LabelSource', 'foldernames');\n",
    "\n",
    "labels = classify(net, imds_test);"
   ]
  },
  {
   "cell_type": "markdown",
   "metadata": {},
   "source": [
    "### Test one at a time\n",
    "Run this section multiple times to get a feel for the random images and how they are being classified. If the title of the image is green, this is a correct prediction. If the title is red, the prediction is incorrect."
   ]
  },
  {
   "cell_type": "code",
   "execution_count": 9,
   "metadata": {},
   "outputs": [
    {
     "data": {
      "image/png": "[encoded data removed]",
      "text/plain": [
       "<IPython.core.display.Image object>"
      ]
     },
     "metadata": {},
     "output_type": "display_data"
    }
   ],
   "source": [
    "ii = randi(4000);\n",
    "im = imread(imds_test.Files{ii});\n",
    "imshow(im);\n",
    "if labels(ii) == imds_test.Labels(ii)\n",
    "   colorText = 'g'; \n",
    "else\n",
    "    colorText = 'r';\n",
    "end\n",
    "title(char(labels(ii)),'Color',colorText);"
   ]
  },
  {
   "cell_type": "markdown",
   "metadata": {},
   "source": [
    "### Determine overall accuracy"
   ]
  },
  {
   "cell_type": "code",
   "execution_count": 11,
   "metadata": {},
   "outputs": [
    {
     "name": "stdout",
     "output_type": "stream",
     "text": [
      "\n",
      "ans =\n",
      "\n",
      "    0.7327\n",
      "\n"
     ]
    }
   ],
   "source": [
    "confMat = confusionmat(imds_test.Labels, labels);\n",
    "confMat = confMat./sum(confMat,2);\n",
    "mean(diag(confMat))"
   ]
  }
 ],
 "metadata": {
  "kernelspec": {
   "display_name": "Matlab R2019a",
   "language": "matlab",
   "name": "matlab"
  },
  "language_info": {
   "codemirror_mode": "octave",
   "file_extension": ".m",
   "help_links": [
    {
     "text": "MetaKernel Magics",
     "url": "https://metakernel.readthedocs.io/en/latest/source/README.html"
    }
   ],
   "mimetype": "text/x-octave",
   "name": "matlab",
   "version": "0.16.7"
  }
 },
 "nbformat": 4,
 "nbformat_minor": 4
}
